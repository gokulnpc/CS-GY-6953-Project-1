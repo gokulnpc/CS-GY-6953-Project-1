{
  "nbformat": 4,
  "nbformat_minor": 0,
  "metadata": {
    "colab": {
      "provenance": [],
      "gpuType": "T4"
    },
    "kernelspec": {
      "name": "python3",
      "display_name": "Python 3"
    },
    "language_info": {
      "name": "python"
    },
    "accelerator": "GPU"
  },
  "cells": [
    {
      "cell_type": "code",
      "execution_count": null,
      "metadata": {
        "colab": {
          "base_uri": "https://localhost:8080/"
        },
        "id": "jgWrQA9HjWlX",
        "outputId": "abe07e96-cf21-4f3e-cdac-67b2b6ac10d8"
      },
      "outputs": [
        {
          "output_type": "stream",
          "name": "stdout",
          "text": [
            "Mounted at /content/drive\n",
            "Model architecture:\n",
            "----------------------------------------------------------------\n",
            "        Layer (type)               Output Shape         Param #\n",
            "================================================================\n",
            "            Conv2d-1           [-1, 84, 32, 32]           2,268\n",
            "       BatchNorm2d-2           [-1, 84, 32, 32]             168\n",
            "            Conv2d-3           [-1, 84, 32, 32]          63,504\n",
            "       BatchNorm2d-4           [-1, 84, 32, 32]             168\n",
            "            Conv2d-5           [-1, 84, 32, 32]          63,504\n",
            "       BatchNorm2d-6           [-1, 84, 32, 32]             168\n",
            "     ResidualBlock-7           [-1, 84, 32, 32]               0\n",
            "            Conv2d-8           [-1, 84, 32, 32]          63,504\n",
            "       BatchNorm2d-9           [-1, 84, 32, 32]             168\n",
            "           Conv2d-10           [-1, 84, 32, 32]          63,504\n",
            "      BatchNorm2d-11           [-1, 84, 32, 32]             168\n",
            "    ResidualBlock-12           [-1, 84, 32, 32]               0\n",
            "           Conv2d-13          [-1, 168, 16, 16]         127,008\n",
            "      BatchNorm2d-14          [-1, 168, 16, 16]             336\n",
            "           Conv2d-15          [-1, 168, 16, 16]         254,016\n",
            "      BatchNorm2d-16          [-1, 168, 16, 16]             336\n",
            "           Conv2d-17          [-1, 168, 16, 16]          14,112\n",
            "      BatchNorm2d-18          [-1, 168, 16, 16]             336\n",
            "    ResidualBlock-19          [-1, 168, 16, 16]               0\n",
            "           Conv2d-20          [-1, 168, 16, 16]         254,016\n",
            "      BatchNorm2d-21          [-1, 168, 16, 16]             336\n",
            "           Conv2d-22          [-1, 168, 16, 16]         254,016\n",
            "      BatchNorm2d-23          [-1, 168, 16, 16]             336\n",
            "    ResidualBlock-24          [-1, 168, 16, 16]               0\n",
            "           Conv2d-25            [-1, 336, 8, 8]         508,032\n",
            "      BatchNorm2d-26            [-1, 336, 8, 8]             672\n",
            "           Conv2d-27            [-1, 336, 8, 8]       1,016,064\n",
            "      BatchNorm2d-28            [-1, 336, 8, 8]             672\n",
            "           Conv2d-29            [-1, 336, 8, 8]          56,448\n",
            "      BatchNorm2d-30            [-1, 336, 8, 8]             672\n",
            "    ResidualBlock-31            [-1, 336, 8, 8]               0\n",
            "           Conv2d-32            [-1, 336, 8, 8]       1,016,064\n",
            "      BatchNorm2d-33            [-1, 336, 8, 8]             672\n",
            "           Conv2d-34            [-1, 336, 8, 8]       1,016,064\n",
            "      BatchNorm2d-35            [-1, 336, 8, 8]             672\n",
            "    ResidualBlock-36            [-1, 336, 8, 8]               0\n",
            "AdaptiveAvgPool2d-37            [-1, 336, 1, 1]               0\n",
            "          Dropout-38            [-1, 336, 1, 1]               0\n",
            "           Linear-39                   [-1, 10]           3,370\n",
            "================================================================\n",
            "Total params: 4,781,374\n",
            "Trainable params: 4,781,374\n",
            "Non-trainable params: 0\n",
            "----------------------------------------------------------------\n",
            "Input size (MB): 0.01\n",
            "Forward/backward pass size (MB): 13.79\n",
            "Params size (MB): 18.24\n",
            "Estimated Total Size (MB): 32.04\n",
            "----------------------------------------------------------------\n",
            "Files already downloaded and verified\n"
          ]
        },
        {
          "output_type": "stream",
          "name": "stderr",
          "text": [
            "Epoch 1/150: 100%|██████████| 352/352 [00:48<00:00,  7.23it/s, Loss=0.0158, Acc=24.8]\n"
          ]
        },
        {
          "output_type": "stream",
          "name": "stdout",
          "text": [
            "\n",
            "Epoch 1: Validation Accuracy: 41.76%\n",
            "Validation accuracy improved, checkpoint saved.\n"
          ]
        },
        {
          "output_type": "stream",
          "name": "stderr",
          "text": [
            "Epoch 2/150: 100%|██████████| 352/352 [00:51<00:00,  6.86it/s, Loss=0.014, Acc=35.6]\n"
          ]
        },
        {
          "output_type": "stream",
          "name": "stdout",
          "text": [
            "\n",
            "Epoch 2: Validation Accuracy: 57.08%\n",
            "Validation accuracy improved, checkpoint saved.\n"
          ]
        },
        {
          "output_type": "stream",
          "name": "stderr",
          "text": [
            "Epoch 3/150: 100%|██████████| 352/352 [00:51<00:00,  6.80it/s, Loss=0.0133, Acc=39.8]\n"
          ]
        },
        {
          "output_type": "stream",
          "name": "stdout",
          "text": [
            "\n",
            "Epoch 3: Validation Accuracy: 57.98%\n",
            "Validation accuracy improved, checkpoint saved.\n"
          ]
        },
        {
          "output_type": "stream",
          "name": "stderr",
          "text": [
            "Epoch 4/150: 100%|██████████| 352/352 [00:51<00:00,  6.81it/s, Loss=0.013, Acc=41.6]\n"
          ]
        },
        {
          "output_type": "stream",
          "name": "stdout",
          "text": [
            "\n",
            "Epoch 4: Validation Accuracy: 61.56%\n",
            "Validation accuracy improved, checkpoint saved.\n"
          ]
        },
        {
          "output_type": "stream",
          "name": "stderr",
          "text": [
            "Epoch 5/150: 100%|██████████| 352/352 [00:51<00:00,  6.82it/s, Loss=0.0126, Acc=41.1]\n"
          ]
        },
        {
          "output_type": "stream",
          "name": "stdout",
          "text": [
            "\n",
            "Epoch 5: Validation Accuracy: 65.12%\n",
            "Validation accuracy improved, checkpoint saved.\n"
          ]
        },
        {
          "output_type": "stream",
          "name": "stderr",
          "text": [
            "Epoch 6/150: 100%|██████████| 352/352 [00:51<00:00,  6.79it/s, Loss=0.012, Acc=44.7]\n"
          ]
        },
        {
          "output_type": "stream",
          "name": "stdout",
          "text": [
            "\n",
            "Epoch 6: Validation Accuracy: 65.40%\n",
            "Validation accuracy improved, checkpoint saved.\n"
          ]
        },
        {
          "output_type": "stream",
          "name": "stderr",
          "text": [
            "Epoch 7/150: 100%|██████████| 352/352 [00:51<00:00,  6.83it/s, Loss=0.0122, Acc=45.6]\n"
          ]
        },
        {
          "output_type": "stream",
          "name": "stdout",
          "text": [
            "\n",
            "Epoch 7: Validation Accuracy: 71.52%\n",
            "Validation accuracy improved, checkpoint saved.\n"
          ]
        },
        {
          "output_type": "stream",
          "name": "stderr",
          "text": [
            "Epoch 8/150: 100%|██████████| 352/352 [00:51<00:00,  6.80it/s, Loss=0.0115, Acc=46.6]\n"
          ]
        },
        {
          "output_type": "stream",
          "name": "stdout",
          "text": [
            "\n",
            "Epoch 8: Validation Accuracy: 72.00%\n",
            "Validation accuracy improved, checkpoint saved.\n"
          ]
        },
        {
          "output_type": "stream",
          "name": "stderr",
          "text": [
            "Epoch 9/150: 100%|██████████| 352/352 [00:51<00:00,  6.80it/s, Loss=0.0113, Acc=48.1]\n"
          ]
        },
        {
          "output_type": "stream",
          "name": "stdout",
          "text": [
            "\n",
            "Epoch 9: Validation Accuracy: 73.34%\n",
            "Validation accuracy improved, checkpoint saved.\n"
          ]
        },
        {
          "output_type": "stream",
          "name": "stderr",
          "text": [
            "Epoch 10/150: 100%|██████████| 352/352 [00:51<00:00,  6.81it/s, Loss=0.0115, Acc=51]\n"
          ]
        },
        {
          "output_type": "stream",
          "name": "stdout",
          "text": [
            "\n",
            "Epoch 10: Validation Accuracy: 73.60%\n",
            "Validation accuracy improved, checkpoint saved.\n",
            "Snapshot saved at epoch 10\n"
          ]
        },
        {
          "output_type": "stream",
          "name": "stderr",
          "text": [
            "Epoch 11/150: 100%|██████████| 352/352 [00:51<00:00,  6.79it/s, Loss=0.0114, Acc=51.3]\n"
          ]
        },
        {
          "output_type": "stream",
          "name": "stdout",
          "text": [
            "\n",
            "Epoch 11: Validation Accuracy: 75.34%\n",
            "Validation accuracy improved, checkpoint saved.\n"
          ]
        },
        {
          "output_type": "stream",
          "name": "stderr",
          "text": [
            "Epoch 12/150: 100%|██████████| 352/352 [00:52<00:00,  6.77it/s, Loss=0.0112, Acc=51.8]\n"
          ]
        },
        {
          "output_type": "stream",
          "name": "stdout",
          "text": [
            "\n",
            "Epoch 12: Validation Accuracy: 80.00%\n",
            "Validation accuracy improved, checkpoint saved.\n"
          ]
        },
        {
          "output_type": "stream",
          "name": "stderr",
          "text": [
            "Epoch 13/150: 100%|██████████| 352/352 [00:51<00:00,  6.81it/s, Loss=0.0111, Acc=53.9]\n"
          ]
        },
        {
          "output_type": "stream",
          "name": "stdout",
          "text": [
            "\n",
            "Epoch 13: Validation Accuracy: 81.22%\n",
            "Validation accuracy improved, checkpoint saved.\n"
          ]
        },
        {
          "output_type": "stream",
          "name": "stderr",
          "text": [
            "Epoch 14/150: 100%|██████████| 352/352 [00:51<00:00,  6.81it/s, Loss=0.011, Acc=52.3]\n"
          ]
        },
        {
          "output_type": "stream",
          "name": "stdout",
          "text": [
            "\n",
            "Epoch 14: Validation Accuracy: 78.94%\n",
            "No improvement for 1 epoch(s).\n"
          ]
        },
        {
          "output_type": "stream",
          "name": "stderr",
          "text": [
            "Epoch 15/150: 100%|██████████| 352/352 [00:51<00:00,  6.82it/s, Loss=0.0106, Acc=53.2]\n"
          ]
        },
        {
          "output_type": "stream",
          "name": "stdout",
          "text": [
            "\n",
            "Epoch 15: Validation Accuracy: 83.06%\n",
            "Validation accuracy improved, checkpoint saved.\n"
          ]
        },
        {
          "output_type": "stream",
          "name": "stderr",
          "text": [
            "Epoch 16/150: 100%|██████████| 352/352 [00:51<00:00,  6.83it/s, Loss=0.0109, Acc=51.2]\n"
          ]
        },
        {
          "output_type": "stream",
          "name": "stdout",
          "text": [
            "\n",
            "Epoch 16: Validation Accuracy: 80.88%\n",
            "No improvement for 1 epoch(s).\n"
          ]
        },
        {
          "output_type": "stream",
          "name": "stderr",
          "text": [
            "Epoch 17/150: 100%|██████████| 352/352 [00:51<00:00,  6.85it/s, Loss=0.0105, Acc=52.8]\n"
          ]
        },
        {
          "output_type": "stream",
          "name": "stdout",
          "text": [
            "\n",
            "Epoch 17: Validation Accuracy: 81.62%\n",
            "No improvement for 2 epoch(s).\n"
          ]
        },
        {
          "output_type": "stream",
          "name": "stderr",
          "text": [
            "Epoch 18/150: 100%|██████████| 352/352 [00:51<00:00,  6.88it/s, Loss=0.0105, Acc=54.1]\n"
          ]
        },
        {
          "output_type": "stream",
          "name": "stdout",
          "text": [
            "\n",
            "Epoch 18: Validation Accuracy: 82.84%\n",
            "No improvement for 3 epoch(s).\n"
          ]
        },
        {
          "output_type": "stream",
          "name": "stderr",
          "text": [
            "Epoch 19/150: 100%|██████████| 352/352 [00:51<00:00,  6.87it/s, Loss=0.0102, Acc=53.8]\n"
          ]
        },
        {
          "output_type": "stream",
          "name": "stdout",
          "text": [
            "\n",
            "Epoch 19: Validation Accuracy: 82.96%\n",
            "No improvement for 4 epoch(s).\n"
          ]
        },
        {
          "output_type": "stream",
          "name": "stderr",
          "text": [
            "Epoch 20/150: 100%|██████████| 352/352 [00:51<00:00,  6.88it/s, Loss=0.0106, Acc=49.5]\n"
          ]
        },
        {
          "output_type": "stream",
          "name": "stdout",
          "text": [
            "\n",
            "Epoch 20: Validation Accuracy: 83.70%\n",
            "Validation accuracy improved, checkpoint saved.\n",
            "Snapshot saved at epoch 20\n"
          ]
        },
        {
          "output_type": "stream",
          "name": "stderr",
          "text": [
            "Epoch 21/150: 100%|██████████| 352/352 [00:51<00:00,  6.90it/s, Loss=0.0102, Acc=56.8]\n"
          ]
        },
        {
          "output_type": "stream",
          "name": "stdout",
          "text": [
            "\n",
            "Epoch 21: Validation Accuracy: 82.46%\n",
            "No improvement for 1 epoch(s).\n"
          ]
        },
        {
          "output_type": "stream",
          "name": "stderr",
          "text": [
            "Epoch 22/150: 100%|██████████| 352/352 [00:51<00:00,  6.89it/s, Loss=0.0101, Acc=52.3]\n"
          ]
        },
        {
          "output_type": "stream",
          "name": "stdout",
          "text": [
            "\n",
            "Epoch 22: Validation Accuracy: 84.76%\n",
            "Validation accuracy improved, checkpoint saved.\n"
          ]
        },
        {
          "output_type": "stream",
          "name": "stderr",
          "text": [
            "Epoch 23/150: 100%|██████████| 352/352 [00:51<00:00,  6.88it/s, Loss=0.0103, Acc=54.4]\n"
          ]
        },
        {
          "output_type": "stream",
          "name": "stdout",
          "text": [
            "\n",
            "Epoch 23: Validation Accuracy: 81.64%\n",
            "No improvement for 1 epoch(s).\n"
          ]
        },
        {
          "output_type": "stream",
          "name": "stderr",
          "text": [
            "Epoch 24/150: 100%|██████████| 352/352 [00:50<00:00,  6.94it/s, Loss=0.0103, Acc=53.9]\n"
          ]
        },
        {
          "output_type": "stream",
          "name": "stdout",
          "text": [
            "\n",
            "Epoch 24: Validation Accuracy: 83.18%\n",
            "No improvement for 2 epoch(s).\n"
          ]
        },
        {
          "output_type": "stream",
          "name": "stderr",
          "text": [
            "Epoch 25/150: 100%|██████████| 352/352 [00:50<00:00,  6.94it/s, Loss=0.01, Acc=55.6]\n"
          ]
        },
        {
          "output_type": "stream",
          "name": "stdout",
          "text": [
            "\n",
            "Epoch 25: Validation Accuracy: 84.90%\n",
            "Validation accuracy improved, checkpoint saved.\n"
          ]
        },
        {
          "output_type": "stream",
          "name": "stderr",
          "text": [
            "Epoch 26/150: 100%|██████████| 352/352 [00:50<00:00,  6.93it/s, Loss=0.0101, Acc=56.8]\n"
          ]
        },
        {
          "output_type": "stream",
          "name": "stdout",
          "text": [
            "\n",
            "Epoch 26: Validation Accuracy: 85.84%\n",
            "Validation accuracy improved, checkpoint saved.\n"
          ]
        },
        {
          "output_type": "stream",
          "name": "stderr",
          "text": [
            "Epoch 27/150: 100%|██████████| 352/352 [00:50<00:00,  6.93it/s, Loss=0.00981, Acc=53.2]\n"
          ]
        },
        {
          "output_type": "stream",
          "name": "stdout",
          "text": [
            "\n",
            "Epoch 27: Validation Accuracy: 85.22%\n",
            "No improvement for 1 epoch(s).\n"
          ]
        },
        {
          "output_type": "stream",
          "name": "stderr",
          "text": [
            "Epoch 28/150: 100%|██████████| 352/352 [00:50<00:00,  6.95it/s, Loss=0.01, Acc=52.7]\n"
          ]
        },
        {
          "output_type": "stream",
          "name": "stdout",
          "text": [
            "\n",
            "Epoch 28: Validation Accuracy: 86.48%\n",
            "Validation accuracy improved, checkpoint saved.\n"
          ]
        },
        {
          "output_type": "stream",
          "name": "stderr",
          "text": [
            "Epoch 29/150: 100%|██████████| 352/352 [00:50<00:00,  6.96it/s, Loss=0.00977, Acc=54.9]\n"
          ]
        },
        {
          "output_type": "stream",
          "name": "stdout",
          "text": [
            "\n",
            "Epoch 29: Validation Accuracy: 86.74%\n",
            "Validation accuracy improved, checkpoint saved.\n"
          ]
        },
        {
          "output_type": "stream",
          "name": "stderr",
          "text": [
            "Epoch 30/150: 100%|██████████| 352/352 [00:50<00:00,  6.93it/s, Loss=0.0099, Acc=56.9]\n"
          ]
        },
        {
          "output_type": "stream",
          "name": "stdout",
          "text": [
            "\n",
            "Epoch 30: Validation Accuracy: 84.74%\n",
            "No improvement for 1 epoch(s).\n",
            "Snapshot saved at epoch 30\n"
          ]
        },
        {
          "output_type": "stream",
          "name": "stderr",
          "text": [
            "Epoch 31/150: 100%|██████████| 352/352 [00:50<00:00,  6.96it/s, Loss=0.00981, Acc=55.4]\n"
          ]
        },
        {
          "output_type": "stream",
          "name": "stdout",
          "text": [
            "\n",
            "Epoch 31: Validation Accuracy: 85.90%\n",
            "No improvement for 2 epoch(s).\n"
          ]
        },
        {
          "output_type": "stream",
          "name": "stderr",
          "text": [
            "Epoch 32/150: 100%|██████████| 352/352 [00:50<00:00,  6.98it/s, Loss=0.00985, Acc=56.7]\n"
          ]
        },
        {
          "output_type": "stream",
          "name": "stdout",
          "text": [
            "\n",
            "Epoch 32: Validation Accuracy: 85.08%\n",
            "No improvement for 3 epoch(s).\n"
          ]
        },
        {
          "output_type": "stream",
          "name": "stderr",
          "text": [
            "Epoch 33/150: 100%|██████████| 352/352 [00:50<00:00,  6.96it/s, Loss=0.00972, Acc=57.3]\n"
          ]
        },
        {
          "output_type": "stream",
          "name": "stdout",
          "text": [
            "\n",
            "Epoch 33: Validation Accuracy: 85.30%\n",
            "No improvement for 4 epoch(s).\n"
          ]
        },
        {
          "output_type": "stream",
          "name": "stderr",
          "text": [
            "Epoch 34/150: 100%|██████████| 352/352 [00:50<00:00,  6.97it/s, Loss=0.00971, Acc=57.4]\n"
          ]
        },
        {
          "output_type": "stream",
          "name": "stdout",
          "text": [
            "\n",
            "Epoch 34: Validation Accuracy: 87.12%\n",
            "Validation accuracy improved, checkpoint saved.\n"
          ]
        },
        {
          "output_type": "stream",
          "name": "stderr",
          "text": [
            "Epoch 35/150: 100%|██████████| 352/352 [00:50<00:00,  6.96it/s, Loss=0.00981, Acc=57.7]\n"
          ]
        },
        {
          "output_type": "stream",
          "name": "stdout",
          "text": [
            "\n",
            "Epoch 35: Validation Accuracy: 86.98%\n",
            "No improvement for 1 epoch(s).\n"
          ]
        },
        {
          "output_type": "stream",
          "name": "stderr",
          "text": [
            "Epoch 36/150: 100%|██████████| 352/352 [00:50<00:00,  6.99it/s, Loss=0.00972, Acc=57.6]\n"
          ]
        },
        {
          "output_type": "stream",
          "name": "stdout",
          "text": [
            "\n",
            "Epoch 36: Validation Accuracy: 86.78%\n",
            "No improvement for 2 epoch(s).\n"
          ]
        },
        {
          "output_type": "stream",
          "name": "stderr",
          "text": [
            "Epoch 37/150: 100%|██████████| 352/352 [00:50<00:00,  6.97it/s, Loss=0.00947, Acc=56.4]\n"
          ]
        },
        {
          "output_type": "stream",
          "name": "stdout",
          "text": [
            "\n",
            "Epoch 37: Validation Accuracy: 88.14%\n",
            "Validation accuracy improved, checkpoint saved.\n"
          ]
        },
        {
          "output_type": "stream",
          "name": "stderr",
          "text": [
            "Epoch 38/150: 100%|██████████| 352/352 [00:50<00:00,  6.96it/s, Loss=0.00968, Acc=59.9]\n"
          ]
        },
        {
          "output_type": "stream",
          "name": "stdout",
          "text": [
            "\n",
            "Epoch 38: Validation Accuracy: 87.82%\n",
            "No improvement for 1 epoch(s).\n"
          ]
        },
        {
          "output_type": "stream",
          "name": "stderr",
          "text": [
            "Epoch 39/150: 100%|██████████| 352/352 [00:50<00:00,  6.97it/s, Loss=0.00921, Acc=57.5]\n"
          ]
        },
        {
          "output_type": "stream",
          "name": "stdout",
          "text": [
            "\n",
            "Epoch 39: Validation Accuracy: 87.88%\n",
            "No improvement for 2 epoch(s).\n"
          ]
        },
        {
          "output_type": "stream",
          "name": "stderr",
          "text": [
            "Epoch 40/150: 100%|██████████| 352/352 [00:50<00:00,  6.97it/s, Loss=0.00962, Acc=58.4]\n"
          ]
        },
        {
          "output_type": "stream",
          "name": "stdout",
          "text": [
            "\n",
            "Epoch 40: Validation Accuracy: 87.58%\n",
            "No improvement for 3 epoch(s).\n",
            "Snapshot saved at epoch 40\n"
          ]
        },
        {
          "output_type": "stream",
          "name": "stderr",
          "text": [
            "Epoch 41/150: 100%|██████████| 352/352 [00:50<00:00,  6.96it/s, Loss=0.01, Acc=57.8]\n"
          ]
        },
        {
          "output_type": "stream",
          "name": "stdout",
          "text": [
            "\n",
            "Epoch 41: Validation Accuracy: 87.58%\n",
            "No improvement for 4 epoch(s).\n"
          ]
        },
        {
          "output_type": "stream",
          "name": "stderr",
          "text": [
            "Epoch 42/150: 100%|██████████| 352/352 [00:50<00:00,  6.96it/s, Loss=0.00974, Acc=57.6]\n"
          ]
        },
        {
          "output_type": "stream",
          "name": "stdout",
          "text": [
            "\n",
            "Epoch 42: Validation Accuracy: 86.72%\n",
            "No improvement for 5 epoch(s).\n"
          ]
        },
        {
          "output_type": "stream",
          "name": "stderr",
          "text": [
            "Epoch 43/150: 100%|██████████| 352/352 [00:50<00:00,  6.97it/s, Loss=0.00954, Acc=59.7]\n"
          ]
        },
        {
          "output_type": "stream",
          "name": "stdout",
          "text": [
            "\n",
            "Epoch 43: Validation Accuracy: 87.58%\n",
            "No improvement for 6 epoch(s).\n"
          ]
        },
        {
          "output_type": "stream",
          "name": "stderr",
          "text": [
            "Epoch 44/150: 100%|██████████| 352/352 [00:50<00:00,  6.97it/s, Loss=0.00931, Acc=55.8]\n"
          ]
        },
        {
          "output_type": "stream",
          "name": "stdout",
          "text": [
            "\n",
            "Epoch 44: Validation Accuracy: 88.08%\n",
            "No improvement for 7 epoch(s).\n"
          ]
        },
        {
          "output_type": "stream",
          "name": "stderr",
          "text": [
            "Epoch 45/150: 100%|██████████| 352/352 [00:50<00:00,  6.97it/s, Loss=0.00966, Acc=53.8]\n"
          ]
        },
        {
          "output_type": "stream",
          "name": "stdout",
          "text": [
            "\n",
            "Epoch 45: Validation Accuracy: 87.98%\n",
            "No improvement for 8 epoch(s).\n"
          ]
        },
        {
          "output_type": "stream",
          "name": "stderr",
          "text": [
            "Epoch 46/150: 100%|██████████| 352/352 [00:50<00:00,  6.97it/s, Loss=0.0097, Acc=58.9]\n"
          ]
        },
        {
          "output_type": "stream",
          "name": "stdout",
          "text": [
            "\n",
            "Epoch 46: Validation Accuracy: 88.90%\n",
            "Validation accuracy improved, checkpoint saved.\n"
          ]
        },
        {
          "output_type": "stream",
          "name": "stderr",
          "text": [
            "Epoch 47/150: 100%|██████████| 352/352 [00:50<00:00,  6.96it/s, Loss=0.00947, Acc=57.9]\n"
          ]
        },
        {
          "output_type": "stream",
          "name": "stdout",
          "text": [
            "\n",
            "Epoch 47: Validation Accuracy: 88.76%\n",
            "No improvement for 1 epoch(s).\n"
          ]
        },
        {
          "output_type": "stream",
          "name": "stderr",
          "text": [
            "Epoch 48/150: 100%|██████████| 352/352 [00:50<00:00,  6.99it/s, Loss=0.00944, Acc=55.7]\n"
          ]
        },
        {
          "output_type": "stream",
          "name": "stdout",
          "text": [
            "\n",
            "Epoch 48: Validation Accuracy: 88.94%\n",
            "Validation accuracy improved, checkpoint saved.\n"
          ]
        },
        {
          "output_type": "stream",
          "name": "stderr",
          "text": [
            "Epoch 49/150: 100%|██████████| 352/352 [00:50<00:00,  6.98it/s, Loss=0.00933, Acc=56.3]\n"
          ]
        },
        {
          "output_type": "stream",
          "name": "stdout",
          "text": [
            "\n",
            "Epoch 49: Validation Accuracy: 88.84%\n",
            "No improvement for 1 epoch(s).\n"
          ]
        },
        {
          "output_type": "stream",
          "name": "stderr",
          "text": [
            "Epoch 50/150: 100%|██████████| 352/352 [00:50<00:00,  6.98it/s, Loss=0.00955, Acc=57.1]\n"
          ]
        },
        {
          "output_type": "stream",
          "name": "stdout",
          "text": [
            "\n",
            "Epoch 50: Validation Accuracy: 88.52%\n",
            "No improvement for 2 epoch(s).\n",
            "Snapshot saved at epoch 50\n"
          ]
        },
        {
          "output_type": "stream",
          "name": "stderr",
          "text": [
            "Epoch 51/150: 100%|██████████| 352/352 [00:50<00:00,  6.98it/s, Loss=0.00932, Acc=57.8]\n"
          ]
        },
        {
          "output_type": "stream",
          "name": "stdout",
          "text": [
            "\n",
            "Epoch 51: Validation Accuracy: 87.08%\n",
            "No improvement for 3 epoch(s).\n"
          ]
        },
        {
          "output_type": "stream",
          "name": "stderr",
          "text": [
            "Epoch 52/150: 100%|██████████| 352/352 [00:50<00:00,  6.99it/s, Loss=0.00945, Acc=59.3]\n"
          ]
        },
        {
          "output_type": "stream",
          "name": "stdout",
          "text": [
            "\n",
            "Epoch 52: Validation Accuracy: 89.28%\n",
            "Validation accuracy improved, checkpoint saved.\n"
          ]
        },
        {
          "output_type": "stream",
          "name": "stderr",
          "text": [
            "Epoch 53/150: 100%|██████████| 352/352 [00:50<00:00,  6.97it/s, Loss=0.00952, Acc=55.6]\n"
          ]
        },
        {
          "output_type": "stream",
          "name": "stdout",
          "text": [
            "\n",
            "Epoch 53: Validation Accuracy: 88.92%\n",
            "No improvement for 1 epoch(s).\n"
          ]
        },
        {
          "output_type": "stream",
          "name": "stderr",
          "text": [
            "Epoch 54/150: 100%|██████████| 352/352 [00:50<00:00,  6.97it/s, Loss=0.00938, Acc=60.2]\n"
          ]
        },
        {
          "output_type": "stream",
          "name": "stdout",
          "text": [
            "\n",
            "Epoch 54: Validation Accuracy: 88.62%\n",
            "No improvement for 2 epoch(s).\n"
          ]
        },
        {
          "output_type": "stream",
          "name": "stderr",
          "text": [
            "Epoch 55/150: 100%|██████████| 352/352 [00:50<00:00,  6.98it/s, Loss=0.0092, Acc=61.9]\n"
          ]
        },
        {
          "output_type": "stream",
          "name": "stdout",
          "text": [
            "\n",
            "Epoch 55: Validation Accuracy: 89.60%\n",
            "Validation accuracy improved, checkpoint saved.\n"
          ]
        },
        {
          "output_type": "stream",
          "name": "stderr",
          "text": [
            "Epoch 56/150: 100%|██████████| 352/352 [00:50<00:00,  6.99it/s, Loss=0.00938, Acc=59.6]\n"
          ]
        },
        {
          "output_type": "stream",
          "name": "stdout",
          "text": [
            "\n",
            "Epoch 56: Validation Accuracy: 89.48%\n",
            "No improvement for 1 epoch(s).\n"
          ]
        },
        {
          "output_type": "stream",
          "name": "stderr",
          "text": [
            "Epoch 57/150: 100%|██████████| 352/352 [00:50<00:00,  6.98it/s, Loss=0.00921, Acc=57]\n"
          ]
        },
        {
          "output_type": "stream",
          "name": "stdout",
          "text": [
            "\n",
            "Epoch 57: Validation Accuracy: 88.96%\n",
            "No improvement for 2 epoch(s).\n"
          ]
        },
        {
          "output_type": "stream",
          "name": "stderr",
          "text": [
            "Epoch 58/150: 100%|██████████| 352/352 [00:50<00:00,  6.98it/s, Loss=0.00907, Acc=60.1]\n"
          ]
        },
        {
          "output_type": "stream",
          "name": "stdout",
          "text": [
            "\n",
            "Epoch 58: Validation Accuracy: 88.88%\n",
            "No improvement for 3 epoch(s).\n"
          ]
        },
        {
          "output_type": "stream",
          "name": "stderr",
          "text": [
            "Epoch 59/150: 100%|██████████| 352/352 [00:50<00:00,  6.97it/s, Loss=0.00969, Acc=58.9]\n"
          ]
        },
        {
          "output_type": "stream",
          "name": "stdout",
          "text": [
            "\n",
            "Epoch 59: Validation Accuracy: 89.00%\n",
            "No improvement for 4 epoch(s).\n"
          ]
        },
        {
          "output_type": "stream",
          "name": "stderr",
          "text": [
            "Epoch 60/150: 100%|██████████| 352/352 [00:50<00:00,  6.99it/s, Loss=0.0094, Acc=56]\n"
          ]
        },
        {
          "output_type": "stream",
          "name": "stdout",
          "text": [
            "\n",
            "Epoch 60: Validation Accuracy: 89.26%\n",
            "No improvement for 5 epoch(s).\n",
            "Snapshot saved at epoch 60\n"
          ]
        },
        {
          "output_type": "stream",
          "name": "stderr",
          "text": [
            "Epoch 61/150: 100%|██████████| 352/352 [00:50<00:00,  6.98it/s, Loss=0.00927, Acc=60.4]\n"
          ]
        },
        {
          "output_type": "stream",
          "name": "stdout",
          "text": [
            "\n",
            "Epoch 61: Validation Accuracy: 89.38%\n",
            "No improvement for 6 epoch(s).\n"
          ]
        },
        {
          "output_type": "stream",
          "name": "stderr",
          "text": [
            "Epoch 62/150: 100%|██████████| 352/352 [00:50<00:00,  6.99it/s, Loss=0.00921, Acc=62.3]\n"
          ]
        },
        {
          "output_type": "stream",
          "name": "stdout",
          "text": [
            "\n",
            "Epoch 62: Validation Accuracy: 89.66%\n",
            "Validation accuracy improved, checkpoint saved.\n"
          ]
        },
        {
          "output_type": "stream",
          "name": "stderr",
          "text": [
            "Epoch 63/150: 100%|██████████| 352/352 [00:50<00:00,  6.98it/s, Loss=0.00954, Acc=58.3]\n"
          ]
        },
        {
          "output_type": "stream",
          "name": "stdout",
          "text": [
            "\n",
            "Epoch 63: Validation Accuracy: 89.84%\n",
            "Validation accuracy improved, checkpoint saved.\n"
          ]
        },
        {
          "output_type": "stream",
          "name": "stderr",
          "text": [
            "Epoch 64/150: 100%|██████████| 352/352 [00:50<00:00,  6.98it/s, Loss=0.00915, Acc=59]\n"
          ]
        },
        {
          "output_type": "stream",
          "name": "stdout",
          "text": [
            "\n",
            "Epoch 64: Validation Accuracy: 89.56%\n",
            "No improvement for 1 epoch(s).\n"
          ]
        },
        {
          "output_type": "stream",
          "name": "stderr",
          "text": [
            "Epoch 65/150: 100%|██████████| 352/352 [00:50<00:00,  7.00it/s, Loss=0.00907, Acc=60.3]\n"
          ]
        },
        {
          "output_type": "stream",
          "name": "stdout",
          "text": [
            "\n",
            "Epoch 65: Validation Accuracy: 89.44%\n",
            "No improvement for 2 epoch(s).\n"
          ]
        },
        {
          "output_type": "stream",
          "name": "stderr",
          "text": [
            "Epoch 66/150: 100%|██████████| 352/352 [00:50<00:00,  6.99it/s, Loss=0.00916, Acc=62]\n"
          ]
        },
        {
          "output_type": "stream",
          "name": "stdout",
          "text": [
            "\n",
            "Epoch 66: Validation Accuracy: 88.42%\n",
            "No improvement for 3 epoch(s).\n"
          ]
        },
        {
          "output_type": "stream",
          "name": "stderr",
          "text": [
            "Epoch 67/150: 100%|██████████| 352/352 [00:50<00:00,  6.97it/s, Loss=0.00894, Acc=60.2]\n"
          ]
        },
        {
          "output_type": "stream",
          "name": "stdout",
          "text": [
            "\n",
            "Epoch 67: Validation Accuracy: 89.18%\n",
            "No improvement for 4 epoch(s).\n"
          ]
        },
        {
          "output_type": "stream",
          "name": "stderr",
          "text": [
            "Epoch 68/150: 100%|██████████| 352/352 [00:50<00:00,  6.99it/s, Loss=0.00883, Acc=60.2]\n"
          ]
        },
        {
          "output_type": "stream",
          "name": "stdout",
          "text": [
            "\n",
            "Epoch 68: Validation Accuracy: 89.88%\n",
            "Validation accuracy improved, checkpoint saved.\n"
          ]
        },
        {
          "output_type": "stream",
          "name": "stderr",
          "text": [
            "Epoch 69/150: 100%|██████████| 352/352 [00:50<00:00,  6.99it/s, Loss=0.00903, Acc=62.4]\n"
          ]
        },
        {
          "output_type": "stream",
          "name": "stdout",
          "text": [
            "\n",
            "Epoch 69: Validation Accuracy: 89.74%\n",
            "No improvement for 1 epoch(s).\n"
          ]
        },
        {
          "output_type": "stream",
          "name": "stderr",
          "text": [
            "Epoch 70/150: 100%|██████████| 352/352 [00:50<00:00,  6.99it/s, Loss=0.00896, Acc=55.7]\n"
          ]
        },
        {
          "output_type": "stream",
          "name": "stdout",
          "text": [
            "\n",
            "Epoch 70: Validation Accuracy: 89.66%\n",
            "No improvement for 2 epoch(s).\n",
            "Snapshot saved at epoch 70\n"
          ]
        },
        {
          "output_type": "stream",
          "name": "stderr",
          "text": [
            "Epoch 71/150: 100%|██████████| 352/352 [00:50<00:00,  6.98it/s, Loss=0.0093, Acc=57.2]\n"
          ]
        },
        {
          "output_type": "stream",
          "name": "stdout",
          "text": [
            "\n",
            "Epoch 71: Validation Accuracy: 89.70%\n",
            "No improvement for 3 epoch(s).\n"
          ]
        },
        {
          "output_type": "stream",
          "name": "stderr",
          "text": [
            "Epoch 72/150: 100%|██████████| 352/352 [00:50<00:00,  6.98it/s, Loss=0.00898, Acc=58]\n"
          ]
        },
        {
          "output_type": "stream",
          "name": "stdout",
          "text": [
            "\n",
            "Epoch 72: Validation Accuracy: 89.56%\n",
            "No improvement for 4 epoch(s).\n"
          ]
        },
        {
          "output_type": "stream",
          "name": "stderr",
          "text": [
            "Epoch 73/150: 100%|██████████| 352/352 [00:50<00:00,  7.00it/s, Loss=0.00897, Acc=59.1]\n"
          ]
        },
        {
          "output_type": "stream",
          "name": "stdout",
          "text": [
            "\n",
            "Epoch 73: Validation Accuracy: 89.40%\n",
            "No improvement for 5 epoch(s).\n"
          ]
        },
        {
          "output_type": "stream",
          "name": "stderr",
          "text": [
            "Epoch 74/150: 100%|██████████| 352/352 [00:50<00:00,  7.01it/s, Loss=0.00894, Acc=64]\n"
          ]
        },
        {
          "output_type": "stream",
          "name": "stdout",
          "text": [
            "\n",
            "Epoch 74: Validation Accuracy: 90.08%\n",
            "Validation accuracy improved, checkpoint saved.\n"
          ]
        },
        {
          "output_type": "stream",
          "name": "stderr",
          "text": [
            "Epoch 75/150: 100%|██████████| 352/352 [00:50<00:00,  6.98it/s, Loss=0.00908, Acc=59.8]\n"
          ]
        },
        {
          "output_type": "stream",
          "name": "stdout",
          "text": [
            "\n",
            "Epoch 75: Validation Accuracy: 90.48%\n",
            "Validation accuracy improved, checkpoint saved.\n"
          ]
        },
        {
          "output_type": "stream",
          "name": "stderr",
          "text": [
            "Epoch 76/150: 100%|██████████| 352/352 [00:50<00:00,  6.97it/s, Loss=0.00885, Acc=58.2]\n"
          ]
        },
        {
          "output_type": "stream",
          "name": "stdout",
          "text": [
            "\n",
            "Epoch 76: Validation Accuracy: 89.94%\n",
            "No improvement for 1 epoch(s).\n"
          ]
        },
        {
          "output_type": "stream",
          "name": "stderr",
          "text": [
            "Epoch 77/150: 100%|██████████| 352/352 [00:50<00:00,  7.00it/s, Loss=0.00949, Acc=58.7]\n"
          ]
        },
        {
          "output_type": "stream",
          "name": "stdout",
          "text": [
            "\n",
            "Epoch 77: Validation Accuracy: 90.84%\n",
            "Validation accuracy improved, checkpoint saved.\n"
          ]
        },
        {
          "output_type": "stream",
          "name": "stderr",
          "text": [
            "Epoch 78/150: 100%|██████████| 352/352 [00:50<00:00,  6.97it/s, Loss=0.00886, Acc=59.4]\n"
          ]
        },
        {
          "output_type": "stream",
          "name": "stdout",
          "text": [
            "\n",
            "Epoch 78: Validation Accuracy: 91.26%\n",
            "Validation accuracy improved, checkpoint saved.\n"
          ]
        },
        {
          "output_type": "stream",
          "name": "stderr",
          "text": [
            "Epoch 79/150: 100%|██████████| 352/352 [00:50<00:00,  6.98it/s, Loss=0.00884, Acc=60.7]\n"
          ]
        },
        {
          "output_type": "stream",
          "name": "stdout",
          "text": [
            "\n",
            "Epoch 79: Validation Accuracy: 90.40%\n",
            "No improvement for 1 epoch(s).\n"
          ]
        },
        {
          "output_type": "stream",
          "name": "stderr",
          "text": [
            "Epoch 80/150: 100%|██████████| 352/352 [00:50<00:00,  6.98it/s, Loss=0.00861, Acc=59.2]\n"
          ]
        },
        {
          "output_type": "stream",
          "name": "stdout",
          "text": [
            "\n",
            "Epoch 80: Validation Accuracy: 90.10%\n",
            "No improvement for 2 epoch(s).\n",
            "Snapshot saved at epoch 80\n"
          ]
        },
        {
          "output_type": "stream",
          "name": "stderr",
          "text": [
            "Epoch 81/150: 100%|██████████| 352/352 [00:50<00:00,  6.97it/s, Loss=0.00886, Acc=60.7]\n"
          ]
        },
        {
          "output_type": "stream",
          "name": "stdout",
          "text": [
            "\n",
            "Epoch 81: Validation Accuracy: 89.64%\n",
            "No improvement for 3 epoch(s).\n"
          ]
        },
        {
          "output_type": "stream",
          "name": "stderr",
          "text": [
            "Epoch 82/150: 100%|██████████| 352/352 [00:50<00:00,  6.97it/s, Loss=0.00904, Acc=59.8]\n"
          ]
        },
        {
          "output_type": "stream",
          "name": "stdout",
          "text": [
            "\n",
            "Epoch 82: Validation Accuracy: 90.30%\n",
            "No improvement for 4 epoch(s).\n"
          ]
        },
        {
          "output_type": "stream",
          "name": "stderr",
          "text": [
            "Epoch 83/150: 100%|██████████| 352/352 [00:50<00:00,  6.98it/s, Loss=0.0087, Acc=61.8]\n"
          ]
        },
        {
          "output_type": "stream",
          "name": "stdout",
          "text": [
            "\n",
            "Epoch 83: Validation Accuracy: 91.20%\n",
            "No improvement for 5 epoch(s).\n"
          ]
        },
        {
          "output_type": "stream",
          "name": "stderr",
          "text": [
            "Epoch 84/150: 100%|██████████| 352/352 [00:50<00:00,  6.98it/s, Loss=0.00889, Acc=57.6]\n"
          ]
        },
        {
          "output_type": "stream",
          "name": "stdout",
          "text": [
            "\n",
            "Epoch 84: Validation Accuracy: 91.08%\n",
            "No improvement for 6 epoch(s).\n"
          ]
        },
        {
          "output_type": "stream",
          "name": "stderr",
          "text": [
            "Epoch 85/150: 100%|██████████| 352/352 [00:50<00:00,  6.98it/s, Loss=0.00889, Acc=62]\n"
          ]
        },
        {
          "output_type": "stream",
          "name": "stdout",
          "text": [
            "\n",
            "Epoch 85: Validation Accuracy: 91.38%\n",
            "Validation accuracy improved, checkpoint saved.\n"
          ]
        },
        {
          "output_type": "stream",
          "name": "stderr",
          "text": [
            "Epoch 86/150: 100%|██████████| 352/352 [00:50<00:00,  6.97it/s, Loss=0.00892, Acc=62]\n"
          ]
        },
        {
          "output_type": "stream",
          "name": "stdout",
          "text": [
            "\n",
            "Epoch 86: Validation Accuracy: 91.38%\n",
            "No improvement for 1 epoch(s).\n"
          ]
        },
        {
          "output_type": "stream",
          "name": "stderr",
          "text": [
            "Epoch 87/150: 100%|██████████| 352/352 [00:50<00:00,  6.98it/s, Loss=0.00872, Acc=64.2]\n"
          ]
        },
        {
          "output_type": "stream",
          "name": "stdout",
          "text": [
            "\n",
            "Epoch 87: Validation Accuracy: 91.42%\n",
            "Validation accuracy improved, checkpoint saved.\n"
          ]
        },
        {
          "output_type": "stream",
          "name": "stderr",
          "text": [
            "Epoch 88/150: 100%|██████████| 352/352 [00:50<00:00,  6.98it/s, Loss=0.00876, Acc=61.9]\n"
          ]
        },
        {
          "output_type": "stream",
          "name": "stdout",
          "text": [
            "\n",
            "Epoch 88: Validation Accuracy: 91.42%\n",
            "No improvement for 1 epoch(s).\n"
          ]
        },
        {
          "output_type": "stream",
          "name": "stderr",
          "text": [
            "Epoch 89/150: 100%|██████████| 352/352 [00:50<00:00,  6.96it/s, Loss=0.00862, Acc=59.6]\n"
          ]
        },
        {
          "output_type": "stream",
          "name": "stdout",
          "text": [
            "\n",
            "Epoch 89: Validation Accuracy: 91.28%\n",
            "No improvement for 2 epoch(s).\n"
          ]
        },
        {
          "output_type": "stream",
          "name": "stderr",
          "text": [
            "Epoch 90/150: 100%|██████████| 352/352 [00:50<00:00,  6.98it/s, Loss=0.00856, Acc=62.9]\n"
          ]
        },
        {
          "output_type": "stream",
          "name": "stdout",
          "text": [
            "\n",
            "Epoch 90: Validation Accuracy: 91.62%\n",
            "Validation accuracy improved, checkpoint saved.\n",
            "Snapshot saved at epoch 90\n"
          ]
        },
        {
          "output_type": "stream",
          "name": "stderr",
          "text": [
            "Epoch 91/150: 100%|██████████| 352/352 [00:50<00:00,  6.93it/s, Loss=0.00865, Acc=62.9]\n"
          ]
        },
        {
          "output_type": "stream",
          "name": "stdout",
          "text": [
            "\n",
            "Epoch 91: Validation Accuracy: 90.96%\n",
            "No improvement for 1 epoch(s).\n"
          ]
        },
        {
          "output_type": "stream",
          "name": "stderr",
          "text": [
            "Epoch 92/150: 100%|██████████| 352/352 [00:50<00:00,  6.98it/s, Loss=0.00852, Acc=57.5]\n"
          ]
        },
        {
          "output_type": "stream",
          "name": "stdout",
          "text": [
            "\n",
            "Epoch 92: Validation Accuracy: 91.72%\n",
            "Validation accuracy improved, checkpoint saved.\n"
          ]
        },
        {
          "output_type": "stream",
          "name": "stderr",
          "text": [
            "Epoch 93/150: 100%|██████████| 352/352 [00:50<00:00,  6.96it/s, Loss=0.00881, Acc=63.7]\n"
          ]
        },
        {
          "output_type": "stream",
          "name": "stdout",
          "text": [
            "\n",
            "Epoch 93: Validation Accuracy: 91.00%\n",
            "No improvement for 1 epoch(s).\n"
          ]
        },
        {
          "output_type": "stream",
          "name": "stderr",
          "text": [
            "Epoch 94/150: 100%|██████████| 352/352 [00:50<00:00,  6.99it/s, Loss=0.00865, Acc=61.1]\n"
          ]
        },
        {
          "output_type": "stream",
          "name": "stdout",
          "text": [
            "\n",
            "Epoch 94: Validation Accuracy: 91.58%\n",
            "No improvement for 2 epoch(s).\n"
          ]
        },
        {
          "output_type": "stream",
          "name": "stderr",
          "text": [
            "Epoch 95/150: 100%|██████████| 352/352 [00:50<00:00,  6.98it/s, Loss=0.00871, Acc=63.7]\n"
          ]
        },
        {
          "output_type": "stream",
          "name": "stdout",
          "text": [
            "\n",
            "Epoch 95: Validation Accuracy: 91.32%\n",
            "No improvement for 3 epoch(s).\n"
          ]
        },
        {
          "output_type": "stream",
          "name": "stderr",
          "text": [
            "Epoch 96/150: 100%|██████████| 352/352 [00:50<00:00,  6.99it/s, Loss=0.00885, Acc=62.6]\n"
          ]
        },
        {
          "output_type": "stream",
          "name": "stdout",
          "text": [
            "\n",
            "Epoch 96: Validation Accuracy: 91.76%\n",
            "Validation accuracy improved, checkpoint saved.\n"
          ]
        },
        {
          "output_type": "stream",
          "name": "stderr",
          "text": [
            "Epoch 97/150: 100%|██████████| 352/352 [00:50<00:00,  6.99it/s, Loss=0.00885, Acc=61]\n"
          ]
        },
        {
          "output_type": "stream",
          "name": "stdout",
          "text": [
            "\n",
            "Epoch 97: Validation Accuracy: 91.24%\n",
            "No improvement for 1 epoch(s).\n"
          ]
        },
        {
          "output_type": "stream",
          "name": "stderr",
          "text": [
            "Epoch 98/150: 100%|██████████| 352/352 [00:50<00:00,  6.98it/s, Loss=0.00855, Acc=61.9]\n"
          ]
        },
        {
          "output_type": "stream",
          "name": "stdout",
          "text": [
            "\n",
            "Epoch 98: Validation Accuracy: 92.02%\n",
            "Validation accuracy improved, checkpoint saved.\n"
          ]
        },
        {
          "output_type": "stream",
          "name": "stderr",
          "text": [
            "Epoch 99/150: 100%|██████████| 352/352 [00:50<00:00,  6.96it/s, Loss=0.00853, Acc=60.3]\n"
          ]
        },
        {
          "output_type": "stream",
          "name": "stdout",
          "text": [
            "\n",
            "Epoch 99: Validation Accuracy: 91.98%\n",
            "No improvement for 1 epoch(s).\n"
          ]
        },
        {
          "output_type": "stream",
          "name": "stderr",
          "text": [
            "Epoch 100/150: 100%|██████████| 352/352 [00:50<00:00,  6.96it/s, Loss=0.00864, Acc=61.9]\n"
          ]
        },
        {
          "output_type": "stream",
          "name": "stdout",
          "text": [
            "\n",
            "Epoch 100: Validation Accuracy: 92.74%\n",
            "Validation accuracy improved, checkpoint saved.\n",
            "Snapshot saved at epoch 100\n"
          ]
        },
        {
          "output_type": "stream",
          "name": "stderr",
          "text": [
            "Epoch 101/150: 100%|██████████| 352/352 [00:50<00:00,  6.97it/s, Loss=0.0087, Acc=63.8]\n"
          ]
        },
        {
          "output_type": "stream",
          "name": "stdout",
          "text": [
            "\n",
            "Epoch 101: Validation Accuracy: 92.20%\n",
            "No improvement for 1 epoch(s).\n"
          ]
        },
        {
          "output_type": "stream",
          "name": "stderr",
          "text": [
            "Epoch 102/150: 100%|██████████| 352/352 [00:50<00:00,  6.98it/s, Loss=0.00849, Acc=63.6]\n"
          ]
        },
        {
          "output_type": "stream",
          "name": "stdout",
          "text": [
            "\n",
            "Epoch 102: Validation Accuracy: 92.18%\n",
            "No improvement for 2 epoch(s).\n"
          ]
        },
        {
          "output_type": "stream",
          "name": "stderr",
          "text": [
            "Epoch 103/150: 100%|██████████| 352/352 [00:50<00:00,  6.96it/s, Loss=0.00859, Acc=61.1]\n"
          ]
        },
        {
          "output_type": "stream",
          "name": "stdout",
          "text": [
            "\n",
            "Epoch 103: Validation Accuracy: 91.48%\n",
            "No improvement for 3 epoch(s).\n"
          ]
        },
        {
          "output_type": "stream",
          "name": "stderr",
          "text": [
            "Epoch 104/150: 100%|██████████| 352/352 [00:50<00:00,  6.98it/s, Loss=0.00841, Acc=61]\n"
          ]
        },
        {
          "output_type": "stream",
          "name": "stdout",
          "text": [
            "\n",
            "Epoch 104: Validation Accuracy: 92.50%\n",
            "No improvement for 4 epoch(s).\n"
          ]
        },
        {
          "output_type": "stream",
          "name": "stderr",
          "text": [
            "Epoch 105/150: 100%|██████████| 352/352 [00:50<00:00,  6.98it/s, Loss=0.00862, Acc=61.7]\n"
          ]
        },
        {
          "output_type": "stream",
          "name": "stdout",
          "text": [
            "\n",
            "Epoch 105: Validation Accuracy: 92.68%\n",
            "No improvement for 5 epoch(s).\n"
          ]
        },
        {
          "output_type": "stream",
          "name": "stderr",
          "text": [
            "Epoch 106/150: 100%|██████████| 352/352 [00:50<00:00,  6.98it/s, Loss=0.00866, Acc=63.3]\n"
          ]
        },
        {
          "output_type": "stream",
          "name": "stdout",
          "text": [
            "\n",
            "Epoch 106: Validation Accuracy: 92.06%\n",
            "No improvement for 6 epoch(s).\n"
          ]
        },
        {
          "output_type": "stream",
          "name": "stderr",
          "text": [
            "Epoch 107/150: 100%|██████████| 352/352 [00:50<00:00,  6.99it/s, Loss=0.00806, Acc=62.4]\n"
          ]
        },
        {
          "output_type": "stream",
          "name": "stdout",
          "text": [
            "\n",
            "Epoch 107: Validation Accuracy: 92.72%\n",
            "No improvement for 7 epoch(s).\n"
          ]
        },
        {
          "output_type": "stream",
          "name": "stderr",
          "text": [
            "Epoch 108/150: 100%|██████████| 352/352 [00:50<00:00,  6.97it/s, Loss=0.00838, Acc=64.7]\n"
          ]
        },
        {
          "output_type": "stream",
          "name": "stdout",
          "text": [
            "\n",
            "Epoch 108: Validation Accuracy: 92.46%\n",
            "No improvement for 8 epoch(s).\n"
          ]
        },
        {
          "output_type": "stream",
          "name": "stderr",
          "text": [
            "Epoch 109/150: 100%|██████████| 352/352 [00:50<00:00,  6.96it/s, Loss=0.00821, Acc=61]\n"
          ]
        },
        {
          "output_type": "stream",
          "name": "stdout",
          "text": [
            "\n",
            "Epoch 109: Validation Accuracy: 92.38%\n",
            "No improvement for 9 epoch(s).\n"
          ]
        },
        {
          "output_type": "stream",
          "name": "stderr",
          "text": [
            "Epoch 110/150: 100%|██████████| 352/352 [00:50<00:00,  6.97it/s, Loss=0.00828, Acc=63.3]\n"
          ]
        },
        {
          "output_type": "stream",
          "name": "stdout",
          "text": [
            "\n",
            "Epoch 110: Validation Accuracy: 92.06%\n",
            "No improvement for 10 epoch(s).\n",
            "Snapshot saved at epoch 110\n"
          ]
        },
        {
          "output_type": "stream",
          "name": "stderr",
          "text": [
            "Epoch 111/150: 100%|██████████| 352/352 [00:50<00:00,  6.97it/s, Loss=0.00854, Acc=64.2]\n"
          ]
        },
        {
          "output_type": "stream",
          "name": "stdout",
          "text": [
            "\n",
            "Epoch 111: Validation Accuracy: 92.12%\n",
            "No improvement for 11 epoch(s).\n"
          ]
        },
        {
          "output_type": "stream",
          "name": "stderr",
          "text": [
            "Epoch 112/150: 100%|██████████| 352/352 [00:50<00:00,  6.96it/s, Loss=0.00839, Acc=63.6]\n"
          ]
        },
        {
          "output_type": "stream",
          "name": "stdout",
          "text": [
            "\n",
            "Epoch 112: Validation Accuracy: 92.68%\n",
            "No improvement for 12 epoch(s).\n"
          ]
        },
        {
          "output_type": "stream",
          "name": "stderr",
          "text": [
            "Epoch 113/150: 100%|██████████| 352/352 [00:50<00:00,  6.97it/s, Loss=0.00841, Acc=63.4]\n"
          ]
        },
        {
          "output_type": "stream",
          "name": "stdout",
          "text": [
            "\n",
            "Epoch 113: Validation Accuracy: 92.74%\n",
            "No improvement for 13 epoch(s).\n"
          ]
        },
        {
          "output_type": "stream",
          "name": "stderr",
          "text": [
            "Epoch 114/150: 100%|██████████| 352/352 [00:50<00:00,  6.99it/s, Loss=0.00828, Acc=63.8]\n"
          ]
        },
        {
          "output_type": "stream",
          "name": "stdout",
          "text": [
            "\n",
            "Epoch 114: Validation Accuracy: 92.52%\n",
            "No improvement for 14 epoch(s).\n"
          ]
        },
        {
          "output_type": "stream",
          "name": "stderr",
          "text": [
            "Epoch 115/150: 100%|██████████| 352/352 [00:50<00:00,  7.00it/s, Loss=0.00818, Acc=66.5]\n"
          ]
        },
        {
          "output_type": "stream",
          "name": "stdout",
          "text": [
            "\n",
            "Epoch 115: Validation Accuracy: 92.54%\n",
            "No improvement for 15 epoch(s).\n"
          ]
        },
        {
          "output_type": "stream",
          "name": "stderr",
          "text": [
            "Epoch 116/150: 100%|██████████| 352/352 [00:50<00:00,  6.98it/s, Loss=0.00831, Acc=60.9]\n"
          ]
        },
        {
          "output_type": "stream",
          "name": "stdout",
          "text": [
            "\n",
            "Epoch 116: Validation Accuracy: 92.98%\n",
            "Validation accuracy improved, checkpoint saved.\n"
          ]
        },
        {
          "output_type": "stream",
          "name": "stderr",
          "text": [
            "Epoch 117/150: 100%|██████████| 352/352 [00:50<00:00,  6.97it/s, Loss=0.00838, Acc=62.6]\n"
          ]
        },
        {
          "output_type": "stream",
          "name": "stdout",
          "text": [
            "\n",
            "Epoch 117: Validation Accuracy: 93.06%\n",
            "Validation accuracy improved, checkpoint saved.\n"
          ]
        },
        {
          "output_type": "stream",
          "name": "stderr",
          "text": [
            "Epoch 118/150: 100%|██████████| 352/352 [00:50<00:00,  6.96it/s, Loss=0.0085, Acc=65.4]\n"
          ]
        },
        {
          "output_type": "stream",
          "name": "stdout",
          "text": [
            "\n",
            "Epoch 118: Validation Accuracy: 92.74%\n",
            "No improvement for 1 epoch(s).\n"
          ]
        },
        {
          "output_type": "stream",
          "name": "stderr",
          "text": [
            "Epoch 119/150: 100%|██████████| 352/352 [00:50<00:00,  6.98it/s, Loss=0.00844, Acc=64.7]\n"
          ]
        },
        {
          "output_type": "stream",
          "name": "stdout",
          "text": [
            "\n",
            "Epoch 119: Validation Accuracy: 92.68%\n",
            "No improvement for 2 epoch(s).\n"
          ]
        },
        {
          "output_type": "stream",
          "name": "stderr",
          "text": [
            "Epoch 120/150: 100%|██████████| 352/352 [00:50<00:00,  6.97it/s, Loss=0.0081, Acc=64.4]\n"
          ]
        },
        {
          "output_type": "stream",
          "name": "stdout",
          "text": [
            "\n",
            "Epoch 120: Validation Accuracy: 92.62%\n",
            "No improvement for 3 epoch(s).\n",
            "Snapshot saved at epoch 120\n"
          ]
        },
        {
          "output_type": "stream",
          "name": "stderr",
          "text": [
            "Epoch 121/150: 100%|██████████| 352/352 [00:50<00:00,  6.98it/s, Loss=0.00813, Acc=65.6]\n"
          ]
        },
        {
          "output_type": "stream",
          "name": "stdout",
          "text": [
            "\n",
            "Epoch 121: Validation Accuracy: 93.06%\n",
            "No improvement for 4 epoch(s).\n"
          ]
        },
        {
          "output_type": "stream",
          "name": "stderr",
          "text": [
            "Epoch 122/150: 100%|██████████| 352/352 [00:50<00:00,  6.98it/s, Loss=0.00806, Acc=64.2]\n"
          ]
        },
        {
          "output_type": "stream",
          "name": "stdout",
          "text": [
            "\n",
            "Epoch 122: Validation Accuracy: 92.74%\n",
            "No improvement for 5 epoch(s).\n"
          ]
        },
        {
          "output_type": "stream",
          "name": "stderr",
          "text": [
            "Epoch 123/150: 100%|██████████| 352/352 [00:50<00:00,  6.97it/s, Loss=0.00835, Acc=63.7]\n"
          ]
        },
        {
          "output_type": "stream",
          "name": "stdout",
          "text": [
            "\n",
            "Epoch 123: Validation Accuracy: 92.84%\n",
            "No improvement for 6 epoch(s).\n"
          ]
        },
        {
          "output_type": "stream",
          "name": "stderr",
          "text": [
            "Epoch 124/150: 100%|██████████| 352/352 [00:50<00:00,  6.99it/s, Loss=0.00799, Acc=64.8]\n"
          ]
        },
        {
          "output_type": "stream",
          "name": "stdout",
          "text": [
            "\n",
            "Epoch 124: Validation Accuracy: 92.66%\n",
            "No improvement for 7 epoch(s).\n"
          ]
        },
        {
          "output_type": "stream",
          "name": "stderr",
          "text": [
            "Epoch 125/150: 100%|██████████| 352/352 [00:50<00:00,  7.00it/s, Loss=0.00835, Acc=63]\n"
          ]
        },
        {
          "output_type": "stream",
          "name": "stdout",
          "text": [
            "\n",
            "Epoch 125: Validation Accuracy: 93.00%\n",
            "No improvement for 8 epoch(s).\n"
          ]
        },
        {
          "output_type": "stream",
          "name": "stderr",
          "text": [
            "Epoch 126/150: 100%|██████████| 352/352 [00:50<00:00,  7.01it/s, Loss=0.0081, Acc=68.1]\n"
          ]
        },
        {
          "output_type": "stream",
          "name": "stdout",
          "text": [
            "\n",
            "Epoch 126: Validation Accuracy: 93.02%\n",
            "No improvement for 9 epoch(s).\n"
          ]
        },
        {
          "output_type": "stream",
          "name": "stderr",
          "text": [
            "Epoch 127/150: 100%|██████████| 352/352 [00:50<00:00,  6.99it/s, Loss=0.00817, Acc=62.5]\n"
          ]
        },
        {
          "output_type": "stream",
          "name": "stdout",
          "text": [
            "\n",
            "Epoch 127: Validation Accuracy: 93.20%\n",
            "Validation accuracy improved, checkpoint saved.\n"
          ]
        },
        {
          "output_type": "stream",
          "name": "stderr",
          "text": [
            "Epoch 128/150: 100%|██████████| 352/352 [00:50<00:00,  6.96it/s, Loss=0.00811, Acc=62.9]\n"
          ]
        },
        {
          "output_type": "stream",
          "name": "stdout",
          "text": [
            "\n",
            "Epoch 128: Validation Accuracy: 93.02%\n",
            "No improvement for 1 epoch(s).\n"
          ]
        },
        {
          "output_type": "stream",
          "name": "stderr",
          "text": [
            "Epoch 129/150: 100%|██████████| 352/352 [00:50<00:00,  6.97it/s, Loss=0.00821, Acc=64.8]\n"
          ]
        },
        {
          "output_type": "stream",
          "name": "stdout",
          "text": [
            "\n",
            "Epoch 129: Validation Accuracy: 93.48%\n",
            "Validation accuracy improved, checkpoint saved.\n"
          ]
        },
        {
          "output_type": "stream",
          "name": "stderr",
          "text": [
            "Epoch 130/150: 100%|██████████| 352/352 [00:50<00:00,  6.96it/s, Loss=0.0081, Acc=62.8]\n"
          ]
        },
        {
          "output_type": "stream",
          "name": "stdout",
          "text": [
            "\n",
            "Epoch 130: Validation Accuracy: 92.96%\n",
            "No improvement for 1 epoch(s).\n",
            "Snapshot saved at epoch 130\n"
          ]
        },
        {
          "output_type": "stream",
          "name": "stderr",
          "text": [
            "Epoch 131/150: 100%|██████████| 352/352 [00:50<00:00,  6.96it/s, Loss=0.00805, Acc=67.3]\n"
          ]
        },
        {
          "output_type": "stream",
          "name": "stdout",
          "text": [
            "\n",
            "Epoch 131: Validation Accuracy: 93.40%\n",
            "No improvement for 2 epoch(s).\n"
          ]
        },
        {
          "output_type": "stream",
          "name": "stderr",
          "text": [
            "Epoch 132/150: 100%|██████████| 352/352 [00:50<00:00,  6.96it/s, Loss=0.00814, Acc=67.2]\n"
          ]
        },
        {
          "output_type": "stream",
          "name": "stdout",
          "text": [
            "\n",
            "Epoch 132: Validation Accuracy: 93.52%\n",
            "Validation accuracy improved, checkpoint saved.\n"
          ]
        },
        {
          "output_type": "stream",
          "name": "stderr",
          "text": [
            "Epoch 133/150: 100%|██████████| 352/352 [00:50<00:00,  6.97it/s, Loss=0.008, Acc=64.6]\n"
          ]
        },
        {
          "output_type": "stream",
          "name": "stdout",
          "text": [
            "\n",
            "Epoch 133: Validation Accuracy: 93.10%\n",
            "No improvement for 1 epoch(s).\n"
          ]
        },
        {
          "output_type": "stream",
          "name": "stderr",
          "text": [
            "Epoch 134/150: 100%|██████████| 352/352 [00:50<00:00,  7.00it/s, Loss=0.00816, Acc=61.1]\n"
          ]
        },
        {
          "output_type": "stream",
          "name": "stdout",
          "text": [
            "\n",
            "Epoch 134: Validation Accuracy: 93.20%\n",
            "No improvement for 2 epoch(s).\n"
          ]
        },
        {
          "output_type": "stream",
          "name": "stderr",
          "text": [
            "Epoch 135/150: 100%|██████████| 352/352 [00:50<00:00,  6.99it/s, Loss=0.00817, Acc=65.9]\n"
          ]
        },
        {
          "output_type": "stream",
          "name": "stdout",
          "text": [
            "\n",
            "Epoch 135: Validation Accuracy: 92.38%\n",
            "No improvement for 3 epoch(s).\n"
          ]
        },
        {
          "output_type": "stream",
          "name": "stderr",
          "text": [
            "Epoch 136/150: 100%|██████████| 352/352 [00:50<00:00,  6.99it/s, Loss=0.00819, Acc=64.4]\n"
          ]
        },
        {
          "output_type": "stream",
          "name": "stdout",
          "text": [
            "\n",
            "Epoch 136: Validation Accuracy: 92.96%\n",
            "No improvement for 4 epoch(s).\n"
          ]
        },
        {
          "output_type": "stream",
          "name": "stderr",
          "text": [
            "Epoch 137/150: 100%|██████████| 352/352 [00:50<00:00,  6.96it/s, Loss=0.00808, Acc=61.4]\n"
          ]
        },
        {
          "output_type": "stream",
          "name": "stdout",
          "text": [
            "\n",
            "Epoch 137: Validation Accuracy: 93.24%\n",
            "No improvement for 5 epoch(s).\n"
          ]
        },
        {
          "output_type": "stream",
          "name": "stderr",
          "text": [
            "Epoch 138/150: 100%|██████████| 352/352 [00:50<00:00,  6.99it/s, Loss=0.00795, Acc=64.3]\n"
          ]
        },
        {
          "output_type": "stream",
          "name": "stdout",
          "text": [
            "\n",
            "Epoch 138: Validation Accuracy: 93.56%\n",
            "Validation accuracy improved, checkpoint saved.\n"
          ]
        },
        {
          "output_type": "stream",
          "name": "stderr",
          "text": [
            "Epoch 139/150: 100%|██████████| 352/352 [00:50<00:00,  6.96it/s, Loss=0.00793, Acc=66.1]\n"
          ]
        },
        {
          "output_type": "stream",
          "name": "stdout",
          "text": [
            "\n",
            "Epoch 139: Validation Accuracy: 93.48%\n",
            "No improvement for 1 epoch(s).\n"
          ]
        },
        {
          "output_type": "stream",
          "name": "stderr",
          "text": [
            "Epoch 140/150: 100%|██████████| 352/352 [00:50<00:00,  6.98it/s, Loss=0.00827, Acc=64.2]\n"
          ]
        },
        {
          "output_type": "stream",
          "name": "stdout",
          "text": [
            "\n",
            "Epoch 140: Validation Accuracy: 92.98%\n",
            "No improvement for 2 epoch(s).\n",
            "Snapshot saved at epoch 140\n"
          ]
        },
        {
          "output_type": "stream",
          "name": "stderr",
          "text": [
            "Epoch 141/150: 100%|██████████| 352/352 [00:50<00:00,  6.98it/s, Loss=0.00799, Acc=66.1]\n"
          ]
        },
        {
          "output_type": "stream",
          "name": "stdout",
          "text": [
            "\n",
            "Epoch 141: Validation Accuracy: 93.22%\n",
            "No improvement for 3 epoch(s).\n"
          ]
        },
        {
          "output_type": "stream",
          "name": "stderr",
          "text": [
            "Epoch 142/150: 100%|██████████| 352/352 [00:50<00:00,  6.98it/s, Loss=0.00807, Acc=65.5]\n"
          ]
        },
        {
          "output_type": "stream",
          "name": "stdout",
          "text": [
            "\n",
            "Epoch 142: Validation Accuracy: 93.68%\n",
            "Validation accuracy improved, checkpoint saved.\n"
          ]
        },
        {
          "output_type": "stream",
          "name": "stderr",
          "text": [
            "Epoch 143/150: 100%|██████████| 352/352 [00:50<00:00,  6.98it/s, Loss=0.00824, Acc=62.2]\n"
          ]
        },
        {
          "output_type": "stream",
          "name": "stdout",
          "text": [
            "\n",
            "Epoch 143: Validation Accuracy: 93.16%\n",
            "No improvement for 1 epoch(s).\n"
          ]
        },
        {
          "output_type": "stream",
          "name": "stderr",
          "text": [
            "Epoch 144/150: 100%|██████████| 352/352 [00:50<00:00,  6.99it/s, Loss=0.00807, Acc=65.4]\n"
          ]
        },
        {
          "output_type": "stream",
          "name": "stdout",
          "text": [
            "\n",
            "Epoch 144: Validation Accuracy: 93.34%\n",
            "No improvement for 2 epoch(s).\n"
          ]
        },
        {
          "output_type": "stream",
          "name": "stderr",
          "text": [
            "Epoch 145/150: 100%|██████████| 352/352 [00:50<00:00,  6.99it/s, Loss=0.00826, Acc=64.1]\n"
          ]
        },
        {
          "output_type": "stream",
          "name": "stdout",
          "text": [
            "\n",
            "Epoch 145: Validation Accuracy: 93.38%\n",
            "No improvement for 3 epoch(s).\n"
          ]
        },
        {
          "output_type": "stream",
          "name": "stderr",
          "text": [
            "Epoch 146/150: 100%|██████████| 352/352 [00:50<00:00,  6.98it/s, Loss=0.00807, Acc=62.7]\n"
          ]
        },
        {
          "output_type": "stream",
          "name": "stdout",
          "text": [
            "\n",
            "Epoch 146: Validation Accuracy: 93.60%\n",
            "No improvement for 4 epoch(s).\n"
          ]
        },
        {
          "output_type": "stream",
          "name": "stderr",
          "text": [
            "Epoch 147/150: 100%|██████████| 352/352 [00:50<00:00,  6.96it/s, Loss=0.00808, Acc=65.7]\n"
          ]
        },
        {
          "output_type": "stream",
          "name": "stdout",
          "text": [
            "\n",
            "Epoch 147: Validation Accuracy: 93.26%\n",
            "No improvement for 5 epoch(s).\n"
          ]
        },
        {
          "output_type": "stream",
          "name": "stderr",
          "text": [
            "Epoch 148/150: 100%|██████████| 352/352 [00:50<00:00,  6.97it/s, Loss=0.00832, Acc=62]\n"
          ]
        },
        {
          "output_type": "stream",
          "name": "stdout",
          "text": [
            "\n",
            "Epoch 148: Validation Accuracy: 93.38%\n",
            "No improvement for 6 epoch(s).\n"
          ]
        },
        {
          "output_type": "stream",
          "name": "stderr",
          "text": [
            "Epoch 149/150: 100%|██████████| 352/352 [00:50<00:00,  6.97it/s, Loss=0.00801, Acc=64.4]\n"
          ]
        },
        {
          "output_type": "stream",
          "name": "stdout",
          "text": [
            "\n",
            "Epoch 149: Validation Accuracy: 93.28%\n",
            "No improvement for 7 epoch(s).\n"
          ]
        },
        {
          "output_type": "stream",
          "name": "stderr",
          "text": [
            "Epoch 150/150: 100%|██████████| 352/352 [00:50<00:00,  6.98it/s, Loss=0.00791, Acc=69.1]\n"
          ]
        },
        {
          "output_type": "stream",
          "name": "stdout",
          "text": [
            "\n",
            "Epoch 150: Validation Accuracy: 93.14%\n",
            "No improvement for 8 epoch(s).\n",
            "Snapshot saved at epoch 150\n"
          ]
        }
      ],
      "source": [
        "import os\n",
        "os.environ[\"KMP_DUPLICATE_LIB_OK\"] = \"TRUE\"\n",
        "\n",
        "import argparse\n",
        "import torch\n",
        "import torch.nn as nn\n",
        "import torch.optim as optim\n",
        "import torchvision\n",
        "import torchvision.transforms as transforms\n",
        "from torch.utils.data import DataLoader, random_split\n",
        "import numpy as np\n",
        "from torchsummary import summary\n",
        "from tqdm import tqdm\n",
        "import pickle\n",
        "import pandas as pd\n",
        "from PIL import Image\n",
        "\n",
        "# -----------------------------\n",
        "# Google Drive Setup for Google Colab\n",
        "# -----------------------------\n",
        "# If running in Google Colab, mount the drive and set file paths accordingly.\n",
        "try:\n",
        "    from google.colab import drive\n",
        "    drive.mount('/content/drive')\n",
        "    DRIVE_MOUNTED = True\n",
        "except ImportError:\n",
        "    DRIVE_MOUNTED = False\n",
        "\n",
        "if DRIVE_MOUNTED:\n",
        "    DATA_ROOT = '/content/drive/MyDrive/cifar_data'\n",
        "    CHECKPOINT_PATH = '/content/drive/MyDrive/cifar_model/checkpoint.pth'\n",
        "    SNAPSHOT_FOLDER = '/content/drive/MyDrive/cifar_model/snapshots'\n",
        "else:\n",
        "    DATA_ROOT = './data'\n",
        "    CHECKPOINT_PATH = 'checkpoint.pth'\n",
        "    SNAPSHOT_FOLDER = 'snapshots'\n",
        "\n",
        "# Set random seeds for reproducibility\n",
        "torch.manual_seed(42)\n",
        "if torch.cuda.is_available():\n",
        "    torch.cuda.manual_seed(42)\n",
        "\n",
        "# Device configuration\n",
        "device = torch.device('cuda' if torch.cuda.is_available() else 'cpu')\n",
        "\n",
        "#######################################\n",
        "# Mixup and CutMix Functions\n",
        "#######################################\n",
        "def mixup_data(x, y, alpha=0.2):\n",
        "    \"\"\"Apply mixup augmentation to a batch.\"\"\"\n",
        "    if alpha > 0:\n",
        "        lam = np.random.beta(alpha, alpha)\n",
        "    else:\n",
        "        lam = 1\n",
        "    batch_size = x.size(0)\n",
        "    index = torch.randperm(batch_size).to(x.device)\n",
        "    mixed_x = lam * x + (1 - lam) * x[index, :]\n",
        "    y_a, y_b = y, y[index]\n",
        "    return mixed_x, y_a, y_b, lam\n",
        "\n",
        "def mixup_criterion(criterion, pred, y_a, y_b, lam):\n",
        "    \"\"\"Compute the mixup loss.\"\"\"\n",
        "    return lam * criterion(pred, y_a) + (1 - lam) * criterion(pred, y_b)\n",
        "\n",
        "def cutmix_data(x, y, alpha=1.0):\n",
        "    \"\"\"Apply CutMix augmentation to a batch.\"\"\"\n",
        "    batch_size, _, H, W = x.size()\n",
        "    lam = np.random.beta(alpha, alpha)\n",
        "    rand_index = torch.randperm(batch_size).to(x.device)\n",
        "    cut_rat = np.sqrt(1. - lam)\n",
        "    cut_w = int(W * cut_rat)\n",
        "    cut_h = int(H * cut_rat)\n",
        "\n",
        "    cx = np.random.randint(W)\n",
        "    cy = np.random.randint(H)\n",
        "\n",
        "    bbx1 = np.clip(cx - cut_w // 2, 0, W)\n",
        "    bby1 = np.clip(cy - cut_h // 2, 0, H)\n",
        "    bbx2 = np.clip(cx + cut_w // 2, 0, W)\n",
        "    bby2 = np.clip(cy + cut_h // 2, 0, H)\n",
        "\n",
        "    x[:, :, bby1:bby2, bbx1:bbx2] = x[rand_index, :, bby1:bby2, bbx1:bbx2]\n",
        "    lam = 1 - ((bbx2 - bbx1) * (bby2 - bby1) / (W * H))\n",
        "    y_a, y_b = y, y[rand_index]\n",
        "    return x, y_a, y_b, lam\n",
        "\n",
        "#######################################\n",
        "# Model: Residual Block and Custom ResNet\n",
        "#######################################\n",
        "class ResidualBlock(nn.Module):\n",
        "    def __init__(self, in_channels, out_channels, stride=1):\n",
        "        super(ResidualBlock, self).__init__()\n",
        "        self.conv1 = nn.Conv2d(in_channels, out_channels, kernel_size=3,\n",
        "                               stride=stride, padding=1, bias=False)\n",
        "        self.bn1 = nn.BatchNorm2d(out_channels)\n",
        "        self.conv2 = nn.Conv2d(out_channels, out_channels, kernel_size=3,\n",
        "                               stride=1, padding=1, bias=False)\n",
        "        self.bn2 = nn.BatchNorm2d(out_channels)\n",
        "        self.shortcut = nn.Sequential()\n",
        "        if stride != 1 or in_channels != out_channels:\n",
        "            self.shortcut = nn.Sequential(\n",
        "                nn.Conv2d(in_channels, out_channels, kernel_size=1,\n",
        "                          stride=stride, bias=False),\n",
        "                nn.BatchNorm2d(out_channels)\n",
        "            )\n",
        "\n",
        "    def forward(self, x):\n",
        "        out = torch.relu(self.bn1(self.conv1(x)))\n",
        "        out = self.bn2(self.conv2(out))\n",
        "        out += self.shortcut(x)\n",
        "        out = torch.relu(out)\n",
        "        return out\n",
        "\n",
        "class CustomResNet(nn.Module):\n",
        "    def __init__(self, num_classes=10):\n",
        "        super(CustomResNet, self).__init__()\n",
        "        # Updated initial convolution: 3 -> 84 channels\n",
        "        self.conv1 = nn.Conv2d(3, 84, kernel_size=3, stride=1, padding=1, bias=False)\n",
        "        self.bn1 = nn.BatchNorm2d(84)\n",
        "        # Residual layers\n",
        "        self.layer1 = self.make_layer(84, 84, num_blocks=2, stride=1)\n",
        "        self.layer2 = self.make_layer(84, 168, num_blocks=2, stride=2)\n",
        "        self.layer3 = self.make_layer(168, 336, num_blocks=2, stride=2)\n",
        "        self.avg_pool = nn.AdaptiveAvgPool2d((1, 1))\n",
        "        self.dropout = nn.Dropout(0.5)\n",
        "        self.fc = nn.Linear(336, num_classes)\n",
        "\n",
        "    def make_layer(self, in_channels, out_channels, num_blocks, stride):\n",
        "        layers = []\n",
        "        layers.append(ResidualBlock(in_channels, out_channels, stride))\n",
        "        for _ in range(1, num_blocks):\n",
        "            layers.append(ResidualBlock(out_channels, out_channels))\n",
        "        return nn.Sequential(*layers)\n",
        "\n",
        "    def forward(self, x):\n",
        "        out = torch.relu(self.bn1(self.conv1(x)))\n",
        "        out = self.layer1(out)\n",
        "        out = self.layer2(out)\n",
        "        out = self.layer3(out)\n",
        "        out = self.avg_pool(out)\n",
        "        out = self.dropout(out)\n",
        "        out = out.view(out.size(0), -1)\n",
        "        out = self.fc(out)\n",
        "        return out\n",
        "\n",
        "#######################################\n",
        "# Data Loading Function for CIFAR-10 (50k training images)\n",
        "#######################################\n",
        "def load_cifar10_data():\n",
        "    transform_train = transforms.Compose([\n",
        "        transforms.RandomCrop(32, padding=4),\n",
        "        transforms.RandomHorizontalFlip(),\n",
        "        transforms.ToTensor(),\n",
        "        transforms.Normalize((0.4914, 0.4822, 0.4465),\n",
        "                             (0.2023, 0.1994, 0.2010)),\n",
        "        transforms.RandomErasing(p=0.5, scale=(0.02, 0.33),\n",
        "                                 ratio=(0.3, 3.3), value='random')\n",
        "    ])\n",
        "\n",
        "    train_dataset = torchvision.datasets.CIFAR10(\n",
        "        root=DATA_ROOT, train=True, download=True, transform=transform_train\n",
        "    )\n",
        "\n",
        "    train_size = int(0.9 * len(train_dataset))\n",
        "    val_size = len(train_dataset) - train_size\n",
        "    train_dataset, val_dataset = random_split(train_dataset, [train_size, val_size])\n",
        "\n",
        "    train_loader = DataLoader(train_dataset, batch_size=128, shuffle=True, num_workers=2)\n",
        "    val_loader = DataLoader(val_dataset, batch_size=128, shuffle=False, num_workers=2)\n",
        "    return train_loader, val_loader\n",
        "\n",
        "#######################################\n",
        "# Training Function with Checkpointing, Early Stopping, and Cosine Annealing\n",
        "#######################################\n",
        "def train_model(model, train_loader, val_loader, num_epochs=80, patience=10, checkpoint_path=CHECKPOINT_PATH, snapshot_interval=10):\n",
        "    criterion = nn.CrossEntropyLoss(label_smoothing=0.1)\n",
        "    optimizer = optim.Adam(model.parameters(), lr=1e-3, weight_decay=1e-4)\n",
        "    T_max = len(train_loader) * num_epochs\n",
        "    scheduler = optim.lr_scheduler.CosineAnnealingLR(optimizer, T_max=T_max)\n",
        "\n",
        "    # Check for existing checkpoint to resume training\n",
        "    start_epoch = 0\n",
        "    best_val_acc = 0\n",
        "    if os.path.exists(checkpoint_path):\n",
        "        print(\"Loading checkpoint...\")\n",
        "        checkpoint = torch.load(checkpoint_path, map_location=device)\n",
        "        if isinstance(checkpoint, dict) and 'model_state_dict' in checkpoint:\n",
        "            model.load_state_dict(checkpoint['model_state_dict'])\n",
        "            optimizer.load_state_dict(checkpoint['optimizer_state_dict'])\n",
        "            start_epoch = checkpoint['epoch'] + 1\n",
        "            best_val_acc = checkpoint['best_val_acc']\n",
        "            print(f\"Resuming from epoch {start_epoch} with best validation accuracy: {best_val_acc:.2f}%\")\n",
        "        else:\n",
        "            model.load_state_dict(checkpoint)\n",
        "            print(\"Checkpoint loaded (state_dict only). Starting from epoch 0.\")\n",
        "\n",
        "    # Create snapshots folder in the designated directory\n",
        "    snapshot_folder = SNAPSHOT_FOLDER\n",
        "    os.makedirs(snapshot_folder, exist_ok=True)\n",
        "\n",
        "    epochs_without_improvement = 0\n",
        "    for epoch in range(start_epoch, num_epochs):\n",
        "        model.train()\n",
        "        train_loss = 0\n",
        "        correct = 0\n",
        "        total = 0\n",
        "\n",
        "        pbar = tqdm(train_loader, desc=f'Epoch {epoch+1}/{num_epochs}')\n",
        "        for images, labels in pbar:\n",
        "            images, labels = images.to(device), labels.to(device)\n",
        "            # Randomly choose between Mixup and CutMix (50% chance each)\n",
        "            if np.random.rand() < 0.5:\n",
        "                images, targets_a, targets_b, lam = mixup_data(images, labels, alpha=0.2)\n",
        "                optimizer.zero_grad()\n",
        "                outputs = model(images)\n",
        "                loss = mixup_criterion(criterion, outputs, targets_a, targets_b, lam)\n",
        "            else:\n",
        "                images, targets_a, targets_b, lam = cutmix_data(images, labels, alpha=1.0)\n",
        "                optimizer.zero_grad()\n",
        "                outputs = model(images)\n",
        "                loss = mixup_criterion(criterion, outputs, targets_a, targets_b, lam)\n",
        "\n",
        "            loss.backward()\n",
        "            optimizer.step()\n",
        "            scheduler.step()\n",
        "\n",
        "            train_loss += loss.item()\n",
        "            _, predicted = outputs.max(1)\n",
        "            total += labels.size(0)\n",
        "            correct += predicted.eq(labels).sum().item()\n",
        "\n",
        "            pbar.set_postfix({'Loss': train_loss/total, 'Acc': 100.*correct/total})\n",
        "\n",
        "        # Validation phase (no augmentation)\n",
        "        model.eval()\n",
        "        val_loss = 0\n",
        "        val_correct = 0\n",
        "        val_total = 0\n",
        "        with torch.no_grad():\n",
        "            for images, labels in val_loader:\n",
        "                images, labels = images.to(device), labels.to(device)\n",
        "                outputs = model(images)\n",
        "                loss = criterion(outputs, labels)\n",
        "                val_loss += loss.item()\n",
        "                _, predicted = outputs.max(1)\n",
        "                val_total += labels.size(0)\n",
        "                val_correct += predicted.eq(labels).sum().item()\n",
        "        val_acc = 100.0 * val_correct / val_total\n",
        "        print(f'\\nEpoch {epoch+1}: Validation Accuracy: {val_acc:.2f}%')\n",
        "\n",
        "        if val_acc > best_val_acc:\n",
        "            best_val_acc = val_acc\n",
        "            epochs_without_improvement = 0\n",
        "            checkpoint = {\n",
        "                'epoch': epoch,\n",
        "                'model_state_dict': model.state_dict(),\n",
        "                'optimizer_state_dict': optimizer.state_dict(),\n",
        "                'best_val_acc': best_val_acc\n",
        "            }\n",
        "            torch.save(checkpoint, checkpoint_path)\n",
        "            print(\"Validation accuracy improved, checkpoint saved.\")\n",
        "        else:\n",
        "            epochs_without_improvement += 1\n",
        "            print(f\"No improvement for {epochs_without_improvement} epoch(s).\")\n",
        "\n",
        "        # Save snapshot every snapshot_interval epochs\n",
        "        if (epoch + 1) % snapshot_interval == 0:\n",
        "            snapshot_path = os.path.join(snapshot_folder, f'snapshot_epoch_{epoch+1}.pth')\n",
        "            torch.save(model.state_dict(), snapshot_path)\n",
        "            print(f\"Snapshot saved at epoch {epoch+1}\")\n",
        "\n",
        "        if epochs_without_improvement >= patience:\n",
        "            print(\"Early stopping triggered.\")\n",
        "            break\n",
        "\n",
        "#######################################\n",
        "# Inference Functions for TTA Ensemble\n",
        "#######################################\n",
        "def unpickle(file):\n",
        "    with open(file, 'rb') as fo:\n",
        "        data_dict = pickle.load(fo, encoding='bytes')\n",
        "    return data_dict\n",
        "\n",
        "def prepare_test_data(data):\n",
        "    \"\"\"\n",
        "    data: A NumPy array of shape (N, 32, 32, 3).\n",
        "    Returns: A torch.FloatTensor of shape (N, 3, 32, 32), normalized.\n",
        "    \"\"\"\n",
        "    data = data.astype(np.float32)\n",
        "    data = np.transpose(data, (0, 3, 1, 2))  # (N, 3, 32, 32)\n",
        "    data /= 255.0\n",
        "    mean = np.array([0.4914, 0.4822, 0.4465], dtype=np.float32).reshape(1, 3, 1, 1)\n",
        "    std = np.array([0.2023, 0.1994, 0.2010], dtype=np.float32).reshape(1, 3, 1, 1)\n",
        "    data = (data - mean) / std\n",
        "    return torch.from_numpy(data)\n",
        "\n",
        "def visualize_samples(images, num_samples=5):\n",
        "    \"\"\"\n",
        "    Visualize a few sample images from the preprocessed tensor.\n",
        "    \"\"\"\n",
        "    images = images.clone().numpy()\n",
        "    mean = np.array([0.4914, 0.4822, 0.4465]).reshape(3, 1, 1)\n",
        "    std = np.array([0.2023, 0.1994, 0.2010]).reshape(3, 1, 1)\n",
        "    images = images * std + mean\n",
        "    images = np.clip(images, 0, 1)\n",
        "\n",
        "    import matplotlib.pyplot as plt\n",
        "    plt.figure(figsize=(num_samples*2, 2))\n",
        "    for i in range(num_samples):\n",
        "        plt.subplot(1, num_samples, i+1)\n",
        "        plt.imshow(np.transpose(images[i], (1, 2, 0)))\n",
        "        plt.axis('off')\n",
        "    plt.suptitle(\"Sample Preprocessed Custom Test Images\")\n",
        "    plt.show()\n",
        "\n",
        "def tta_predict(model, img, base_transform, tta_transforms, device, num_augments=5):\n",
        "    \"\"\"\n",
        "    Apply TTA on a single PIL image and return averaged prediction.\n",
        "    \"\"\"\n",
        "    model.eval()\n",
        "    predictions = []\n",
        "    # Base prediction (without extra augmentation)\n",
        "    img_tensor = base_transform(img).unsqueeze(0).to(device)\n",
        "    with torch.no_grad():\n",
        "        output = model(img_tensor)\n",
        "    predictions.append(output.cpu().numpy())\n",
        "\n",
        "    # Apply TTA transforms\n",
        "    for t in tta_transforms:\n",
        "        for _ in range(num_augments):\n",
        "            aug_transform = transforms.Compose([\n",
        "                t,\n",
        "                base_transform\n",
        "            ])\n",
        "            aug_tensor = aug_transform(img).unsqueeze(0).to(device)\n",
        "            with torch.no_grad():\n",
        "                output = model(aug_tensor)\n",
        "            predictions.append(output.cpu().numpy())\n",
        "    predictions = np.concatenate(predictions, axis=0)\n",
        "    avg_pred = np.mean(predictions, axis=0)\n",
        "    return avg_pred\n",
        "\n",
        "def ensemble_inference(model_paths, test_data_tensor, device, batch_size=100, tta=False, base_transform=None, tta_transforms=None, num_augments=5):\n",
        "    \"\"\"\n",
        "    Performs inference by averaging predictions from multiple snapshots.\n",
        "    Optionally applies TTA if tta=True.\n",
        "    model_paths: list of paths to snapshot checkpoints.\n",
        "    test_data_tensor: tensor of test images of shape (N, 3, 32, 32).\n",
        "    \"\"\"\n",
        "    all_preds = []\n",
        "    for path in model_paths:\n",
        "        model = CustomResNet(num_classes=10).to(device)\n",
        "        model.load_state_dict(torch.load(path, map_location=device))\n",
        "        model.eval()\n",
        "        preds = []\n",
        "        if tta:\n",
        "            # For TTA, we assume test_data_tensor is from prepare_test_data (so it's a tensor).\n",
        "            # We need to convert each sample back to PIL.\n",
        "            for i in range(0, test_data_tensor.size(0), batch_size):\n",
        "                batch = test_data_tensor[i:i+batch_size]\n",
        "                # We'll convert each image in the batch to PIL, apply TTA, and get prediction.\n",
        "                for img_tensor in batch:\n",
        "                    img = transforms.ToPILImage()(img_tensor.cpu())\n",
        "                    pred = tta_predict(model, img, base_transform, tta_transforms, device, num_augments)\n",
        "                    preds.append(pred)\n",
        "            preds = np.array(preds)  # shape (N, num_classes)\n",
        "        else:\n",
        "            with torch.no_grad():\n",
        "                loader = DataLoader(test_data_tensor, batch_size=batch_size, shuffle=False)\n",
        "                for batch in loader:\n",
        "                    batch = batch.to(device)\n",
        "                    output = model(batch)\n",
        "                    preds.append(output.cpu().numpy())\n",
        "            preds = np.concatenate(preds, axis=0)\n",
        "        all_preds.append(preds)\n",
        "    # Average predictions across models\n",
        "    ensemble_preds = np.mean(np.stack(all_preds, axis=0), axis=0)\n",
        "    final_labels = np.argmax(ensemble_preds, axis=1)\n",
        "    return final_labels\n",
        "\n",
        "#######################################\n",
        "# Inference Function for Competition Test Set\n",
        "#######################################\n",
        "def inference_competition():\n",
        "    # Load competition test data from pickle file\n",
        "    with open('cifar_test_nolabel.pkl', 'rb') as fo:\n",
        "        test_data_dict = pickle.load(fo, encoding='bytes')\n",
        "    test_data_raw = test_data_dict[b'data']  # assumed shape (N, 32, 32, 3)\n",
        "    test_ids = test_data_dict[b'ids']\n",
        "    test_images = prepare_test_data(test_data_raw)\n",
        "\n",
        "    # Visualize a few samples\n",
        "    visualize_samples(test_images, num_samples=5)\n",
        "\n",
        "    # Define base transform and TTA transforms for inference (PIL format)\n",
        "    base_transform = transforms.Compose([\n",
        "        transforms.ToTensor(),\n",
        "        transforms.Normalize((0.4914, 0.4822, 0.4465),\n",
        "                             (0.2023, 0.1994, 0.2010))\n",
        "    ])\n",
        "    tta_transforms = [\n",
        "        transforms.RandomHorizontalFlip(p=1.0),\n",
        "        transforms.RandomRotation(10)\n",
        "    ]\n",
        "\n",
        "    # Get list of snapshot checkpoints from the snapshots folder\n",
        "    model_paths = []\n",
        "    if os.path.exists(SNAPSHOT_FOLDER):\n",
        "        for f in sorted(os.listdir(SNAPSHOT_FOLDER)):\n",
        "            if f.endswith('.pth'):\n",
        "                model_paths.append(os.path.join(SNAPSHOT_FOLDER, f))\n",
        "    # Also include the best checkpoint\n",
        "    if os.path.exists(CHECKPOINT_PATH):\n",
        "        model_paths.append(CHECKPOINT_PATH)\n",
        "    if len(model_paths) == 0:\n",
        "        print(\"No snapshots found. Exiting inference.\")\n",
        "        return\n",
        "\n",
        "    # Perform ensemble inference with TTA\n",
        "    final_preds = ensemble_inference(model_paths, test_images, device, batch_size=100, tta=True, base_transform=base_transform, tta_transforms=tta_transforms, num_augments=5)\n",
        "\n",
        "    # Convert IDs from bytes to strings if necessary\n",
        "    ids = [id.decode('utf-8') if isinstance(id, bytes) else id for id in test_ids]\n",
        "\n",
        "    submission = pd.DataFrame({\n",
        "        'ID': ids,\n",
        "        'Labels': final_preds\n",
        "    })\n",
        "    submission.to_csv('submissions_ensemble.csv', index=False)\n",
        "    print(\"Submission saved to submissions_ensemble.csv\")\n",
        "\n",
        "#######################################\n",
        "# Main Execution\n",
        "#######################################\n",
        "# def main():\n",
        "#     # Set these variables as desired\n",
        "#     mode = 'train'      # Change to 'inference' for ensemble inference\n",
        "#     epochs = 150         # Total number of training epochs\n",
        "#     patience = 25.       # Patience for early stopping\n",
        "\n",
        "#     if mode == 'train':\n",
        "#         model = CustomResNet(num_classes=10).to(device)\n",
        "#         print(\"Model architecture:\")\n",
        "#         summary(model, (3, 32, 32))\n",
        "#         train_loader, val_loader = load_cifar10_data()\n",
        "#         train_model(model, train_loader, val_loader, num_epochs=epochs, patience=patience, checkpoint_path=CHECKPOINT_PATH, snapshot_interval=10)\n",
        "#     else:\n",
        "#         inference_competition()\n",
        "\n",
        "# # Run the main function\n",
        "# main()\n",
        "\n",
        "def main():\n",
        "    mode = 'train'      # Use 'train' mode to resume training\n",
        "    epochs = 300        # Total number of epochs (150 previous + 150 additional)\n",
        "    patience = 25\n",
        "\n",
        "    if mode == 'train':\n",
        "        model = CustomResNet(num_classes=10).to(device)\n",
        "        print(\"Model architecture:\")\n",
        "        summary(model, (3, 32, 32))\n",
        "        train_loader, val_loader = load_cifar10_data()\n",
        "        train_model(model, train_loader, val_loader, num_epochs=epochs, patience=patience, checkpoint_path=CHECKPOINT_PATH, snapshot_interval=10)\n",
        "    else:\n",
        "        inference_competition()\n",
        "\n"
      ]
    },
    {
      "cell_type": "code",
      "source": [],
      "metadata": {
        "id": "ZI_oawtsjYId"
      },
      "execution_count": null,
      "outputs": []
    }
  ]
}